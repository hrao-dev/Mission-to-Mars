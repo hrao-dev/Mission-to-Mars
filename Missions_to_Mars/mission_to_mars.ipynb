{
 "cells": [
  {
   "cell_type": "code",
   "execution_count": 1,
   "metadata": {},
   "outputs": [],
   "source": [
    "# Dependencies\n",
    "from bs4 import BeautifulSoup\n",
    "from splinter import Browser\n",
    "import requests\n",
    "import pymongo"
   ]
  },
  {
   "cell_type": "code",
   "execution_count": 2,
   "metadata": {},
   "outputs": [],
   "source": [
    "# Initialize PyMongo to work with MongoDBs\n",
    "conn = 'mongodb://localhost:27017'\n",
    "client = pymongo.MongoClient(conn)"
   ]
  },
  {
   "cell_type": "code",
   "execution_count": 3,
   "metadata": {},
   "outputs": [],
   "source": [
    "# Define database and collection\n",
    "db = client.mars_db\n",
    "collection = db.items"
   ]
  },
  {
   "cell_type": "code",
   "execution_count": 4,
   "metadata": {},
   "outputs": [],
   "source": [
    "executable_path = {'executable_path': '/usr/local/bin/chromedriver'}\n",
    "browser = Browser('chrome', **executable_path, headless=False)"
   ]
  },
  {
   "cell_type": "markdown",
   "metadata": {},
   "source": [
    "#### NASA Mars News"
   ]
  },
  {
   "cell_type": "code",
   "execution_count": 5,
   "metadata": {},
   "outputs": [
    {
     "name": "stdout",
     "output_type": "stream",
     "text": [
      "Latest News title: How NASA's Perseverance Mars Team Adjusted to Work in the Time of Coronavirus \n",
      "Latest News Paragraph text: Like much of the rest of the world, the Mars rover team is pushing forward with its mission-critical work while putting the health and safety of their colleagues and community first.\n"
     ]
    }
   ],
   "source": [
    "import time \n",
    "\n",
    "# URL of page to be scraped\n",
    "news_url = 'https://mars.nasa.gov/news/'\n",
    "browser.visit(news_url)\n",
    "time.sleep(10)\n",
    "\n",
    "# HTML Object\n",
    "news_html = browser.html\n",
    "\n",
    "# Parse HTML with Beautiful Soup\n",
    "news_soup = BeautifulSoup(news_html, 'html.parser')\n",
    "#print(news_soup.prettify())\n",
    "\n",
    "# Retrieve the element that contains latest news title and paragraph text\n",
    "news_results = news_soup.find('div', class_='grid_layout')\n",
    "#print(news_results.prettify())\n",
    "\n",
    "title_loc = news_results.find('div',class_='content_title')\n",
    "#print(title_loc)\n",
    "\n",
    "# Scrape the Latest News Title\n",
    "news_title = title_loc.find('a').text\n",
    "print(\"Latest News title: \"+news_title)\n",
    "\n",
    "# Scrape the Latest Paragraph Text\n",
    "news_para_text = news_results.find('div',class_='article_teaser_body').text\n",
    "print(\"Latest News Paragraph text: \"+news_para_text)"
   ]
  },
  {
   "cell_type": "markdown",
   "metadata": {},
   "source": [
    "#### JPL Mars Space Images - Featured Image"
   ]
  },
  {
   "cell_type": "code",
   "execution_count": 6,
   "metadata": {},
   "outputs": [
    {
     "name": "stdout",
     "output_type": "stream",
     "text": [
      "Latest Featured Image URL: https://www.jpl.nasa.gov/spaceimages/images/largesize/PIA14317_hires.jpg\n"
     ]
    }
   ],
   "source": [
    "# URL of page to be scraped\n",
    "image_url = 'https://www.jpl.nasa.gov/spaceimages/?search=&category=Mars'\n",
    "browser.visit(image_url)\n",
    "\n",
    "# HTML Object\n",
    "image_html = browser.html\n",
    "\n",
    "# Find and click the 'FULL IMAGE' button\n",
    "image_button = browser.find_by_id('full_image')\n",
    "\n",
    "# Interact with elements\n",
    "image_button.click()\n",
    "\n",
    "# Find and click the 'more info ' button\n",
    "info_button = browser.find_by_text('more info     ')\n",
    "info_button.click()\n",
    "\n",
    "image_loc = browser.find_by_tag('figure')\n",
    "elems = image_loc.find_by_tag('a')\n",
    "#elems = b.find_by_tag(\"a\")\n",
    "for e in elems:\n",
    "    featured_image_url = e[\"href\"]\n",
    "    print(\"Latest Featured Image URL: \"+featured_image_url)"
   ]
  },
  {
   "cell_type": "markdown",
   "metadata": {},
   "source": [
    "#### Mars Weather"
   ]
  },
  {
   "cell_type": "code",
   "execution_count": 7,
   "metadata": {},
   "outputs": [
    {
     "name": "stdout",
     "output_type": "stream",
     "text": [
      "Latest Weather Tweet: InSight sol 500 (2020-04-22) low -93.8ºC (-136.8ºF) high -3.5ºC (25.6ºF)\n",
      "winds from the WNW at 4.5 m/s (10.1 mph) gusting to 20.4 m/s (45.6 mph)\n",
      "pressure at 6.70 hPa\n"
     ]
    }
   ],
   "source": [
    "import re\n",
    "\n",
    "# URL of page to be scraped\n",
    "weather_url = 'https://twitter.com/marswxreport?lang=en'\n",
    "\n",
    "# Retrieve page with the requests module\n",
    "response = requests.get(weather_url)\n",
    "\n",
    "# Create BeautifulSoup object; parse with 'lxml'\n",
    "weather_soup = BeautifulSoup(response.text, 'lxml')\n",
    "#print(weather_soup.prettify())\n",
    "\n",
    "tweets = weather_soup.find('div', class_='tweet')\n",
    "#print(tweets.prettify())\n",
    "weather_tweet = tweets.find('p', class_ = 'TweetTextSize').text\n",
    "if 'sol' and 'pressure' in weather_tweet:\n",
    "    weather_tweet = re.sub('pic.*', '', weather_tweet)\n",
    "else:\n",
    "    weather_tweet = \"Latest weather information not available\"\n",
    "print(\"Latest Weather Tweet: \"+weather_tweet)"
   ]
  },
  {
   "cell_type": "markdown",
   "metadata": {},
   "source": [
    "#### Mars Facts"
   ]
  },
  {
   "cell_type": "code",
   "execution_count": 8,
   "metadata": {},
   "outputs": [
    {
     "name": "stdout",
     "output_type": "stream",
     "text": [
      "<table border=\"1\" class=\"dataframe\">\n",
      "  <thead>\n",
      "    <tr style=\"text-align: right;\">\n",
      "      <th></th>\n",
      "      <th>Value</th>\n",
      "    </tr>\n",
      "    <tr>\n",
      "      <th>Description</th>\n",
      "      <th></th>\n",
      "    </tr>\n",
      "  </thead>\n",
      "  <tbody>\n",
      "    <tr>\n",
      "      <th>Equatorial Diameter:</th>\n",
      "      <td>6,792 km</td>\n",
      "    </tr>\n",
      "    <tr>\n",
      "      <th>Polar Diameter:</th>\n",
      "      <td>6,752 km</td>\n",
      "    </tr>\n",
      "    <tr>\n",
      "      <th>Mass:</th>\n",
      "      <td>6.39 × 10^23 kg (0.11 Earths)</td>\n",
      "    </tr>\n",
      "    <tr>\n",
      "      <th>Moons:</th>\n",
      "      <td>2 (Phobos &amp; Deimos)</td>\n",
      "    </tr>\n",
      "    <tr>\n",
      "      <th>Orbit Distance:</th>\n",
      "      <td>227,943,824 km (1.38 AU)</td>\n",
      "    </tr>\n",
      "    <tr>\n",
      "      <th>Orbit Period:</th>\n",
      "      <td>687 days (1.9 years)</td>\n",
      "    </tr>\n",
      "    <tr>\n",
      "      <th>Surface Temperature:</th>\n",
      "      <td>-87 to -5 °C</td>\n",
      "    </tr>\n",
      "    <tr>\n",
      "      <th>First Record:</th>\n",
      "      <td>2nd millennium BC</td>\n",
      "    </tr>\n",
      "    <tr>\n",
      "      <th>Recorded By:</th>\n",
      "      <td>Egyptian astronomers</td>\n",
      "    </tr>\n",
      "  </tbody>\n",
      "</table>\n"
     ]
    }
   ],
   "source": [
    "import pandas as pd\n",
    "\n",
    "# URL of page to be scraped\n",
    "facts_url = 'https://space-facts.com/mars/'\n",
    "facts_table = pd.read_html(facts_url)[0]\n",
    "facts_table.columns = ['Description', 'Value']\n",
    "#facts_table = facts_table.drop([7,8])\n",
    "facts_table = facts_table.set_index('Description')\n",
    "facts_html = facts_table.to_html()\n",
    "#print(facts_table)\n",
    "print(facts_html)"
   ]
  },
  {
   "cell_type": "markdown",
   "metadata": {},
   "source": [
    "#### Mars Hemispheres"
   ]
  },
  {
   "cell_type": "code",
   "execution_count": 9,
   "metadata": {},
   "outputs": [
    {
     "name": "stdout",
     "output_type": "stream",
     "text": [
      "[{'title': 'Cerberus Hemisphere Enhanced', 'img_url': 'http://astropedia.astrogeology.usgs.gov/download/Mars/Viking/cerberus_enhanced.tif/full.jpg'}, {'title': 'Schiaparelli Hemisphere Enhanced', 'img_url': 'http://astropedia.astrogeology.usgs.gov/download/Mars/Viking/schiaparelli_enhanced.tif/full.jpg'}, {'title': 'Syrtis Major Hemisphere Enhanced', 'img_url': 'http://astropedia.astrogeology.usgs.gov/download/Mars/Viking/syrtis_major_enhanced.tif/full.jpg'}, {'title': 'Valles Marineris Hemisphere Enhanced', 'img_url': 'http://astropedia.astrogeology.usgs.gov/download/Mars/Viking/valles_marineris_enhanced.tif/full.jpg'}]\n"
     ]
    }
   ],
   "source": [
    "from selenium import webdriver\n",
    "\n",
    "# URL of page to be scraped\n",
    "hemi_url = \"https://astrogeology.usgs.gov/search/results?q=hemisphere+enhanced&k1=target&v1=Mars\"\n",
    "browser.visit(hemi_url)\n",
    "\n",
    "hrefs = []\n",
    "hemi_image_urls = []\n",
    "img_link = \"\"\n",
    "hemisphere = {}\n",
    "\n",
    "parent_elements = browser.find_by_id('product-section')\n",
    "for elem in parent_elements:\n",
    "    links = elem.find_by_tag('a')\n",
    "    for l in links:\n",
    "        if (img_link != l[\"href\"]):\n",
    "            img_link = l[\"href\"]\n",
    "            hrefs.append(img_link)\n",
    "for href in hrefs:\n",
    "            browser.visit(href)\n",
    "            hemi_title = browser.find_by_css('h2').first.text\n",
    "            img_id = browser.find_by_id('wide-image')\n",
    "            img_elem = img_id.find_by_tag('a')\n",
    "            hemi_url= img_elem[\"href\"]\n",
    "            hemisphere = dict({'title':hemi_title, 'img_url':hemi_url})\n",
    "            #print(hemisphere)\n",
    "            hemi_image_urls.append(hemisphere)\n",
    "print(hemi_image_urls)"
   ]
  },
  {
   "cell_type": "code",
   "execution_count": 10,
   "metadata": {},
   "outputs": [],
   "source": [
    "browser.quit()"
   ]
  }
 ],
 "metadata": {
  "kernelspec": {
   "display_name": "Python 3",
   "language": "python",
   "name": "python3"
  },
  "language_info": {
   "codemirror_mode": {
    "name": "ipython",
    "version": 3
   },
   "file_extension": ".py",
   "mimetype": "text/x-python",
   "name": "python",
   "nbconvert_exporter": "python",
   "pygments_lexer": "ipython3",
   "version": "3.7.4"
  }
 },
 "nbformat": 4,
 "nbformat_minor": 2
}
