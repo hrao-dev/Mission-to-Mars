{
 "cells": [
  {
   "cell_type": "code",
   "execution_count": 1,
   "metadata": {},
   "outputs": [],
   "source": [
    "# Dependencies\n",
    "from bs4 import BeautifulSoup\n",
    "from splinter import Browser\n",
    "import requests\n",
    "import pymongo"
   ]
  },
  {
   "cell_type": "code",
   "execution_count": 2,
   "metadata": {},
   "outputs": [],
   "source": [
    "# Initialize PyMongo to work with MongoDBs\n",
    "conn = 'mongodb://localhost:27017'\n",
    "client = pymongo.MongoClient(conn)"
   ]
  },
  {
   "cell_type": "code",
   "execution_count": 3,
   "metadata": {},
   "outputs": [],
   "source": [
    "# Define database and collection\n",
    "db = client.mars_db\n",
    "collection = db.items"
   ]
  },
  {
   "cell_type": "code",
   "execution_count": 4,
   "metadata": {},
   "outputs": [],
   "source": [
    "executable_path = {'executable_path': '/usr/local/bin/chromedriver'}\n",
    "browser = Browser('chrome', **executable_path, headless=False)"
   ]
  },
  {
   "cell_type": "markdown",
   "metadata": {},
   "source": [
    "#### NASA Mars News"
   ]
  },
  {
   "cell_type": "code",
   "execution_count": 5,
   "metadata": {},
   "outputs": [
    {
     "ename": "AttributeError",
     "evalue": "'NoneType' object has no attribute 'find'",
     "output_type": "error",
     "traceback": [
      "\u001b[0;31m---------------------------------------------------------------------------\u001b[0m",
      "\u001b[0;31mAttributeError\u001b[0m                            Traceback (most recent call last)",
      "\u001b[0;32m<ipython-input-5-4d4c36e47af1>\u001b[0m in \u001b[0;36m<module>\u001b[0;34m\u001b[0m\n\u001b[1;32m     28\u001b[0m \u001b[0;34m\u001b[0m\u001b[0m\n\u001b[1;32m     29\u001b[0m \u001b[0;31m# Scrape the Latest News Title\u001b[0m\u001b[0;34m\u001b[0m\u001b[0;34m\u001b[0m\u001b[0;34m\u001b[0m\u001b[0m\n\u001b[0;32m---> 30\u001b[0;31m \u001b[0mnews_title\u001b[0m \u001b[0;34m=\u001b[0m \u001b[0mtitle_loc\u001b[0m\u001b[0;34m.\u001b[0m\u001b[0mfind\u001b[0m\u001b[0;34m(\u001b[0m\u001b[0;34m'a'\u001b[0m\u001b[0;34m)\u001b[0m\u001b[0;34m.\u001b[0m\u001b[0mtext\u001b[0m\u001b[0;34m\u001b[0m\u001b[0;34m\u001b[0m\u001b[0m\n\u001b[0m\u001b[1;32m     31\u001b[0m \u001b[0mprint\u001b[0m\u001b[0;34m(\u001b[0m\u001b[0;34m\"Latest News title: \"\u001b[0m\u001b[0;34m+\u001b[0m\u001b[0mnews_title\u001b[0m\u001b[0;34m)\u001b[0m\u001b[0;34m\u001b[0m\u001b[0;34m\u001b[0m\u001b[0m\n\u001b[1;32m     32\u001b[0m \u001b[0;34m\u001b[0m\u001b[0m\n",
      "\u001b[0;31mAttributeError\u001b[0m: 'NoneType' object has no attribute 'find'"
     ]
    }
   ],
   "source": [
    "import time \n",
    "\n",
    "# URL of page to be scraped\n",
    "news_url = 'https://mars.nasa.gov/news/'\n",
    "browser.visit(news_url)\n",
    "time.sleep(10)\n",
    "\n",
    "# HTML Object\n",
    "news_html = browser.html\n",
    "\n",
    "# Parse HTML with Beautiful Soup\n",
    "news_soup = BeautifulSoup(news_html, 'html.parser')\n",
    "#print(news_soup.prettify())\n",
    "\n",
    "# Retrieve the element that contains latest news title and paragraph text\n",
    "news_results = news_soup.find('div', class_='grid_layout')\n",
    "#print(news_results.prettify())\n",
    "\n",
    "title_loc = news_results.find('div',class_='content_title')\n",
    "#print(title_loc)\n",
    "\n",
    "# Scrape the Latest News Title\n",
    "news_title = title_loc.find('a').text\n",
    "print(\"Latest News title: \"+news_title)\n",
    "\n",
    "# Scrape the Latest Paragraph Text\n",
    "news_para_text = news_results.find('div',class_='article_teaser_body').text\n",
    "print(\"Latest News Paragraph text: \"+news_para_text)"
   ]
  },
  {
   "cell_type": "markdown",
   "metadata": {},
   "source": [
    "#### JPL Mars Space Images - Featured Image"
   ]
  },
  {
   "cell_type": "code",
   "execution_count": null,
   "metadata": {},
   "outputs": [],
   "source": [
    "# URL of page to be scraped\n",
    "image_url = 'https://www.jpl.nasa.gov/spaceimages/?search=&category=Mars'\n",
    "browser.visit(image_url)\n",
    "\n",
    "# HTML Object\n",
    "image_html = browser.html\n",
    "\n",
    "# Find and click the 'FULL IMAGE' button\n",
    "image_button = browser.find_by_id('full_image')\n",
    "\n",
    "# Interact with elements\n",
    "image_button.click()\n",
    "\n",
    "# Find and click the 'more info ' button\n",
    "info_button = browser.find_by_text('more info     ')\n",
    "info_button.click()\n",
    "\n",
    "image_loc = browser.find_by_tag('figure')\n",
    "elems = image_loc.find_by_tag('a')\n",
    "#elems = b.find_by_tag(\"a\")\n",
    "for e in elems:\n",
    "    featured_image_url = e[\"href\"]\n",
    "    print(\"Latest Featured Image URL: \"+featured_image_url)"
   ]
  },
  {
   "cell_type": "markdown",
   "metadata": {},
   "source": [
    "#### Mars Weather"
   ]
  },
  {
   "cell_type": "code",
   "execution_count": null,
   "metadata": {},
   "outputs": [],
   "source": [
    "import re\n",
    "\n",
    "# URL of page to be scraped\n",
    "weather_url = 'https://twitter.com/marswxreport?lang=en'\n",
    "\n",
    "# Retrieve page with the requests module\n",
    "response = requests.get(weather_url)\n",
    "\n",
    "# Create BeautifulSoup object; parse with 'lxml'\n",
    "weather_soup = BeautifulSoup(response.text, 'lxml')\n",
    "#print(weather_soup.prettify())\n",
    "\n",
    "tweets = weather_soup.find('div', class_='tweet')\n",
    "#print(tweets.prettify())\n",
    "weather_tweet = tweets.find('p', class_ = 'TweetTextSize').text\n",
    "if 'sol' and 'pressure' in weather_tweet:\n",
    "    weather_tweet = re.sub('pic.*', '', weather_tweet)\n",
    "else:\n",
    "    weather_tweet = \"Latest weather information not available\"\n",
    "print(\"Latest Weather Tweet: \"+weather_tweet)"
   ]
  },
  {
   "cell_type": "markdown",
   "metadata": {},
   "source": [
    "#### Mars Facts"
   ]
  },
  {
   "cell_type": "code",
   "execution_count": null,
   "metadata": {},
   "outputs": [],
   "source": [
    "import pandas as pd\n",
    "\n",
    "# URL of page to be scraped\n",
    "facts_url = 'https://space-facts.com/mars/'\n",
    "facts_table = pd.read_html(facts_url)[0]\n",
    "facts_table.columns = ['Description', 'Value']\n",
    "#facts_table = facts_table.drop([7,8])\n",
    "facts_table = facts_table.set_index('Description')\n",
    "facts_html = facts_table.to_html()\n",
    "#print(facts_table)\n",
    "print(facts_html)"
   ]
  },
  {
   "cell_type": "markdown",
   "metadata": {},
   "source": [
    "#### Mars Hemispheres"
   ]
  },
  {
   "cell_type": "code",
   "execution_count": null,
   "metadata": {},
   "outputs": [],
   "source": [
    "from selenium import webdriver\n",
    "\n",
    "# URL of page to be scraped\n",
    "hemi_url = \"https://astrogeology.usgs.gov/search/results?q=hemisphere+enhanced&k1=target&v1=Mars\"\n",
    "browser.visit(hemi_url)\n",
    "\n",
    "hrefs = []\n",
    "hemi_image_urls = []\n",
    "img_link = \"\"\n",
    "hemisphere = {}\n",
    "\n",
    "parent_elements = browser.find_by_id('product-section')\n",
    "for elem in parent_elements:\n",
    "    links = elem.find_by_tag('a')\n",
    "    for l in links:\n",
    "        if (img_link != l[\"href\"]):\n",
    "            img_link = l[\"href\"]\n",
    "            hrefs.append(img_link)\n",
    "for href in hrefs:\n",
    "            browser.visit(href)\n",
    "            hemi_title = browser.find_by_css('h2').first.text\n",
    "            img_id = browser.find_by_id('wide-image')\n",
    "            img_elem = img_id.find_by_tag('a')\n",
    "            hemi_url= img_elem[\"href\"]\n",
    "            hemisphere = dict({'title':hemi_title, 'img_url':hemi_url})\n",
    "            #print(hemisphere)\n",
    "            hemi_image_urls.append(hemisphere)\n",
    "print(hemi_image_urls)"
   ]
  },
  {
   "cell_type": "code",
   "execution_count": null,
   "metadata": {},
   "outputs": [],
   "source": [
    "browser.quit()"
   ]
  }
 ],
 "metadata": {
  "kernelspec": {
   "display_name": "Python 3",
   "language": "python",
   "name": "python3"
  },
  "language_info": {
   "codemirror_mode": {
    "name": "ipython",
    "version": 3
   },
   "file_extension": ".py",
   "mimetype": "text/x-python",
   "name": "python",
   "nbconvert_exporter": "python",
   "pygments_lexer": "ipython3",
   "version": "3.7.4"
  }
 },
 "nbformat": 4,
 "nbformat_minor": 2
}
